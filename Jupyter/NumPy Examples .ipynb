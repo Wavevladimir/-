{
 "cells": [
  {
   "cell_type": "code",
   "execution_count": 1,
   "id": "2f73135d-9c99-4fb8-95cd-a29ea4991498",
   "metadata": {},
   "outputs": [],
   "source": [
    "import numpy as np"
   ]
  },
  {
   "cell_type": "markdown",
   "id": "fe55930b-12f7-47d6-b55b-6b20df18123d",
   "metadata": {},
   "source": [
    "## 1. Calculating Total Revenue"
   ]
  },
  {
   "cell_type": "code",
   "execution_count": 2,
   "id": "e4ef367e-99e5-4636-a88d-db1c18239638",
   "metadata": {},
   "outputs": [
    {
     "data": {
      "text/plain": [
       "array([19.99, 29.99, 14.99,  9.99, 24.99])"
      ]
     },
     "execution_count": 2,
     "metadata": {},
     "output_type": "execute_result"
    }
   ],
   "source": [
    "prices = np.array([19.99, 29.99, 14.99, 9.99, 24.99])\n",
    "prices"
   ]
  },
  {
   "cell_type": "code",
   "execution_count": 3,
   "id": "385c2d73-8e49-499b-97d4-9531b3ac6070",
   "metadata": {},
   "outputs": [
    {
     "data": {
      "text/plain": [
       "array([10,  5,  8, 12,  3])"
      ]
     },
     "execution_count": 3,
     "metadata": {},
     "output_type": "execute_result"
    }
   ],
   "source": [
    "quantities = np.array([10, 5, 8, 12, 3])\n",
    "quantities"
   ]
  },
  {
   "cell_type": "code",
   "execution_count": 6,
   "id": "45580a94-8372-4e25-9ee3-d4311310fa31",
   "metadata": {},
   "outputs": [
    {
     "data": {
      "text/plain": [
       "array([199.9 , 149.95, 119.92, 119.88,  74.97])"
      ]
     },
     "execution_count": 6,
     "metadata": {},
     "output_type": "execute_result"
    }
   ],
   "source": [
    "revenue_per_product = prices * quantities\n",
    "revenue_per_product"
   ]
  },
  {
   "cell_type": "code",
   "execution_count": 7,
   "id": "6195e27b-bcbb-458c-bfb6-7f5a5dcc0be3",
   "metadata": {},
   "outputs": [
    {
     "data": {
      "text/plain": [
       "np.float64(664.62)"
      ]
     },
     "execution_count": 7,
     "metadata": {},
     "output_type": "execute_result"
    }
   ],
   "source": [
    "total_revenue = np.sum(revenue_per_product)\n",
    "total_revenue"
   ]
  },
  {
   "cell_type": "markdown",
   "id": "79f1c120-4976-461a-821e-a3268a994bce",
   "metadata": {},
   "source": [
    "## 2. Analyzing Blog Post Stats"
   ]
  },
  {
   "cell_type": "code",
   "execution_count": 8,
   "id": "f7f153ff-34d8-4227-ae8d-7baf9aa18674",
   "metadata": {},
   "outputs": [
    {
     "data": {
      "text/plain": [
       "array([1000,  500,  800, 1200,  300,  600])"
      ]
     },
     "execution_count": 8,
     "metadata": {},
     "output_type": "execute_result"
    }
   ],
   "source": [
    "views = np.array([1000, 500, 800, 1200, 300, 600])\n",
    "views"
   ]
  },
  {
   "cell_type": "code",
   "execution_count": 9,
   "id": "782fec14-0b75-44c9-a00c-daff4e8cedcd",
   "metadata": {},
   "outputs": [
    {
     "data": {
      "text/plain": [
       "np.int64(1200)"
      ]
     },
     "execution_count": 9,
     "metadata": {},
     "output_type": "execute_result"
    }
   ],
   "source": [
    "max_views = np.max(views)\n",
    "max_views"
   ]
  },
  {
   "cell_type": "code",
   "execution_count": 10,
   "id": "ac069536-468a-4ac0-921e-0e0a0b1455df",
   "metadata": {},
   "outputs": [
    {
     "data": {
      "text/plain": [
       "np.int64(300)"
      ]
     },
     "execution_count": 10,
     "metadata": {},
     "output_type": "execute_result"
    }
   ],
   "source": [
    "min_views = np.min(views)\n",
    "min_views"
   ]
  },
  {
   "cell_type": "code",
   "execution_count": 12,
   "id": "cfdfe762-8dc9-4df4-b69f-5e3d1d514d47",
   "metadata": {},
   "outputs": [
    {
     "data": {
      "text/plain": [
       "np.float64(733.33)"
      ]
     },
     "execution_count": 12,
     "metadata": {},
     "output_type": "execute_result"
    }
   ],
   "source": [
    "average_views = np.round(np.mean(views), 2)\n",
    "average_views"
   ]
  },
  {
   "cell_type": "code",
   "execution_count": 13,
   "id": "d48519dc-443f-4b4e-8ced-5a2be58a412c",
   "metadata": {},
   "outputs": [
    {
     "data": {
      "text/plain": [
       "np.int64(4400)"
      ]
     },
     "execution_count": 13,
     "metadata": {},
     "output_type": "execute_result"
    }
   ],
   "source": [
    "total_views = np.sum(views)\n",
    "total_views"
   ]
  },
  {
   "cell_type": "markdown",
   "id": "00cd6348-91e1-4bed-ad0c-38c9f99d0e1c",
   "metadata": {},
   "source": [
    "## 3. Splitting Order into Batches"
   ]
  },
  {
   "cell_type": "code",
   "execution_count": 17,
   "id": "66e79279-61f6-4d8f-ae2b-0eb973e7f215",
   "metadata": {},
   "outputs": [
    {
     "data": {
      "text/plain": [
       "array([1001, 1002, 1003, 1004, 1005, 1006, 1007, 1008])"
      ]
     },
     "execution_count": 17,
     "metadata": {},
     "output_type": "execute_result"
    }
   ],
   "source": [
    "order_ids = np.array([1001, 1002, 1003, 1004, 1005, 1006, 1007, 1008])\n",
    "order_ids"
   ]
  },
  {
   "cell_type": "code",
   "execution_count": 18,
   "id": "f77bdd76-7c69-42bc-8914-523443fa9b64",
   "metadata": {},
   "outputs": [
    {
     "data": {
      "text/plain": [
       "[array([1001, 1002]),\n",
       " array([1003, 1004]),\n",
       " array([1005, 1006]),\n",
       " array([1007, 1008])]"
      ]
     },
     "execution_count": 18,
     "metadata": {},
     "output_type": "execute_result"
    }
   ],
   "source": [
    "batches = np.split(order_ids, 4)\n",
    "batches"
   ]
  },
  {
   "cell_type": "code",
   "execution_count": 22,
   "id": "bc14feaa-acd2-4143-9984-c84ff4847bf3",
   "metadata": {},
   "outputs": [
    {
     "name": "stdout",
     "output_type": "stream",
     "text": [
      "Batch number 0:\n",
      "First element in the batch:  1001\n",
      "Second element in the batch:  1002\n",
      "\n",
      "Batch number 1:\n",
      "First element in the batch:  1003\n",
      "Second element in the batch:  1004\n",
      "\n",
      "Batch number 2:\n",
      "First element in the batch:  1005\n",
      "Second element in the batch:  1006\n",
      "\n",
      "Batch number 3:\n",
      "First element in the batch:  1007\n",
      "Second element in the batch:  1008\n",
      "\n"
     ]
    }
   ],
   "source": [
    "for i, batch in enumerate(batches):\n",
    "    print(f\"Batch number {i}:\")\n",
    "    print(\"First element in the batch: \", batch[0])\n",
    "    print(\"Second element in the batch: \", batch[1])\n",
    "    print('')"
   ]
  },
  {
   "cell_type": "markdown",
   "id": "d5b25a34-83db-4439-a5a9-e038e1f69e07",
   "metadata": {},
   "source": [
    "## 4. Categorizing Product Ratings"
   ]
  },
  {
   "cell_type": "code",
   "execution_count": 23,
   "id": "0be82e08-21da-4153-b263-50b8bbd3059f",
   "metadata": {},
   "outputs": [
    {
     "data": {
      "text/plain": [
       "array([4.5, 3.2, 2.8, 5. , 4.1, 3.9, 2.5, 4.7])"
      ]
     },
     "execution_count": 23,
     "metadata": {},
     "output_type": "execute_result"
    }
   ],
   "source": [
    "ratings = np.array([4.5, 3.2, 2.8, 5.0, 4.1, 3.9, 2.5, 4.7])\n",
    "ratings"
   ]
  },
  {
   "cell_type": "code",
   "execution_count": 24,
   "id": "6b6752d9-60a4-4dbb-aeb4-f03fbc3926e5",
   "metadata": {},
   "outputs": [
    {
     "data": {
      "text/plain": [
       "array([4.5, 5. , 4.1, 4.7])"
      ]
     },
     "execution_count": 24,
     "metadata": {},
     "output_type": "execute_result"
    }
   ],
   "source": [
    "positive_ratings = ratings[ratings >= 4.0]\n",
    "positive_ratings"
   ]
  },
  {
   "cell_type": "code",
   "execution_count": 26,
   "id": "41143808-5f54-49e6-ae92-8fbb685cf7cb",
   "metadata": {},
   "outputs": [
    {
     "data": {
      "text/plain": [
       "array([3.2, 2.8, 3.9, 2.5])"
      ]
     },
     "execution_count": 26,
     "metadata": {},
     "output_type": "execute_result"
    }
   ],
   "source": [
    "negative_ratings = ratings[ratings < 4.0]\n",
    "negative_ratings"
   ]
  },
  {
   "cell_type": "markdown",
   "id": "8757c359-a2b9-49dc-a260-54bcec683c51",
   "metadata": {},
   "source": [
    "## 5. Calculate Total and Average quantities sold"
   ]
  },
  {
   "cell_type": "code",
   "execution_count": 30,
   "id": "e59ce83e-b68d-421b-bb9c-186a48c96914",
   "metadata": {},
   "outputs": [
    {
     "data": {
      "text/plain": [
       "array([[ 5,  3,  2,  7],\n",
       "       [10,  6,  3,  9]])"
      ]
     },
     "execution_count": 30,
     "metadata": {},
     "output_type": "execute_result"
    }
   ],
   "source": [
    "# Each column is specific product (we have 4 products)\n",
    "# Each row is specific order( we have 2 orders)\n",
    "order_quantities = np.array([[5, 3, 2, 7], [10, 6, 3, 9]])\n",
    "order_quantities"
   ]
  },
  {
   "cell_type": "code",
   "execution_count": 31,
   "id": "3c7b4ad7-7574-4bba-9ad8-e6a1194aee15",
   "metadata": {},
   "outputs": [
    {
     "data": {
      "text/plain": [
       "array([15,  9,  5, 16])"
      ]
     },
     "execution_count": 31,
     "metadata": {},
     "output_type": "execute_result"
    }
   ],
   "source": [
    "# Quantities of the sales per product\n",
    "total_quantities_sold = np.sum(order_quantities, axis=0)\n",
    "total_quantities_sold"
   ]
  },
  {
   "cell_type": "code",
   "execution_count": 33,
   "id": "75b34ed6-3ae1-4967-a6ee-b0be81371c5c",
   "metadata": {},
   "outputs": [
    {
     "data": {
      "text/plain": [
       "array([17, 28])"
      ]
     },
     "execution_count": 33,
     "metadata": {},
     "output_type": "execute_result"
    }
   ],
   "source": [
    "# Quantities of the sales per order\n",
    "total_products_per_order = np.sum(order_quantities, axis=1)\n",
    "total_products_per_order"
   ]
  },
  {
   "cell_type": "code",
   "execution_count": 34,
   "id": "1ec6db64-0a35-4eb2-b2be-1fe72c5542a5",
   "metadata": {},
   "outputs": [
    {
     "data": {
      "text/plain": [
       "array([7.5, 4.5, 2.5, 8. ])"
      ]
     },
     "execution_count": 34,
     "metadata": {},
     "output_type": "execute_result"
    }
   ],
   "source": [
    "# Average quantities per product across all orders\n",
    "average_quantities_sold = np.mean(order_quantities, axis=0)\n",
    "average_quantities_sold"
   ]
  },
  {
   "cell_type": "markdown",
   "id": "53cb692e-6dbf-4db9-b73f-d6365254eb29",
   "metadata": {},
   "source": [
    "## Calculate Average product Rating and Maximum rating per Category"
   ]
  },
  {
   "cell_type": "code",
   "execution_count": 35,
   "id": "5c42083c-ceea-4a52-96db-e4faff977228",
   "metadata": {
    "collapsed": true,
    "jupyter": {
     "outputs_hidden": true
    }
   },
   "outputs": [
    {
     "data": {
      "text/plain": [
       "array([[4.5, 3.2, 2.5, 5. ],\n",
       "       [4.3, 3.8, 1. , 4.8],\n",
       "       [2. , 3.6, 4.7, 0.5]])"
      ]
     },
     "execution_count": 35,
     "metadata": {},
     "output_type": "execute_result"
    }
   ],
   "source": [
    "# Each row is one product\n",
    "# Each product is rated in 4 categories\n",
    "product_ratings = np.array([\n",
    "    [4.5, 3.2, 2.5, 5.0],\n",
    "    [4.3, 3.8, 1.0, 4.8],\n",
    "    [2.0, 3.6, 4.7, 0.5]\n",
    "])\n",
    "product_ratings"
   ]
  },
  {
   "cell_type": "code",
   "execution_count": 37,
   "id": "2aceb2bb-4669-450d-b5e5-cb49b750134e",
   "metadata": {},
   "outputs": [
    {
     "data": {
      "text/plain": [
       "array([3.6       , 3.53333333, 2.73333333, 3.43333333])"
      ]
     },
     "execution_count": 37,
     "metadata": {},
     "output_type": "execute_result"
    }
   ],
   "source": [
    "# Avearge rating in each category\n",
    "average_rating_per_category = np.mean(product_ratings, axis=0)\n",
    "average_rating_per_category"
   ]
  },
  {
   "cell_type": "code",
   "execution_count": 38,
   "id": "17cd1048-a224-4832-8c8d-b1ac28e1c27a",
   "metadata": {},
   "outputs": [
    {
     "data": {
      "text/plain": [
       "array([3.8  , 3.475, 2.7  ])"
      ]
     },
     "execution_count": 38,
     "metadata": {},
     "output_type": "execute_result"
    }
   ],
   "source": [
    "# Avearge rating for each product\n",
    "average_rating_per_product = np.mean(product_ratings, axis=1)\n",
    "average_rating_per_product"
   ]
  },
  {
   "cell_type": "code",
   "execution_count": 37,
   "id": "0aef0ba6-02fd-4c64-baa0-36b020a71b5d",
   "metadata": {},
   "outputs": [
    {
     "data": {
      "text/plain": [
       "array([3.6       , 3.53333333, 2.73333333, 3.43333333])"
      ]
     },
     "execution_count": 37,
     "metadata": {},
     "output_type": "execute_result"
    }
   ],
   "source": [
    "# Maximum rating in each category\n",
    "max_rating_per_category = np.max(product_ratings, axis=0)\n",
    "max_rating_per_category"
   ]
  },
  {
   "cell_type": "markdown",
   "id": "05c3864e-7d08-40a2-908c-01559c35fcc3",
   "metadata": {},
   "source": [
    "## 7. Generation of the sample stock data"
   ]
  },
  {
   "cell_type": "code",
   "execution_count": 39,
   "id": "82722cdc-a929-4a52-8366-3305d3deb565",
   "metadata": {},
   "outputs": [],
   "source": [
    "companies = ['Google', 'Microsoft', 'Apple']\n",
    "days = ['Mon 1 April', 'Tue 2 April']\n",
    "price_types = ['Open', 'Close', 'High', 'Low']"
   ]
  },
  {
   "cell_type": "code",
   "execution_count": 42,
   "id": "4b753885-4e21-4b55-b6fc-568b051f5034",
   "metadata": {},
   "outputs": [
    {
     "data": {
      "text/plain": [
       "array([[[0.417, 0.72 , 0.   , 0.302],\n",
       "        [0.147, 0.092, 0.186, 0.346]],\n",
       "\n",
       "       [[0.397, 0.539, 0.419, 0.685],\n",
       "        [0.204, 0.878, 0.027, 0.67 ]],\n",
       "\n",
       "       [[0.417, 0.559, 0.14 , 0.198],\n",
       "        [0.801, 0.968, 0.313, 0.692]]])"
      ]
     },
     "execution_count": 42,
     "metadata": {},
     "output_type": "execute_result"
    }
   ],
   "source": [
    "# Shape will be (3, 2, 4)\n",
    "np.random.seed(1)\n",
    "stock_prices = np.round(np.random.random((len(companies), len(days), len(price_types))), 3)\n",
    "stock_prices"
   ]
  },
  {
   "cell_type": "code",
   "execution_count": 43,
   "id": "49b803c2-a29e-455e-97c8-34aec973ebcd",
   "metadata": {},
   "outputs": [
    {
     "data": {
      "text/plain": [
       "(3, 2, 4)"
      ]
     },
     "execution_count": 43,
     "metadata": {},
     "output_type": "execute_result"
    }
   ],
   "source": [
    "stock_prices.shape"
   ]
  },
  {
   "cell_type": "code",
   "execution_count": 46,
   "id": "9a8915a2-c789-453f-b569-5806b4c3dfa8",
   "metadata": {},
   "outputs": [
    {
     "name": "stdout",
     "output_type": "stream",
     "text": [
      "Stock prices for the Google:\n",
      "Day: Mon 1 April\n",
      "Open Price: 0.417\n",
      "Close Price: 0.72\n",
      "High Price: 0.0\n",
      "Low Price: 0.302\n",
      "\n",
      "Day: Tue 2 April\n",
      "Open Price: 0.147\n",
      "Close Price: 0.092\n",
      "High Price: 0.186\n",
      "Low Price: 0.346\n",
      "\n",
      "\n",
      "Stock prices for the Microsoft:\n",
      "Day: Mon 1 April\n",
      "Open Price: 0.397\n",
      "Close Price: 0.539\n",
      "High Price: 0.419\n",
      "Low Price: 0.685\n",
      "\n",
      "Day: Tue 2 April\n",
      "Open Price: 0.204\n",
      "Close Price: 0.878\n",
      "High Price: 0.027\n",
      "Low Price: 0.67\n",
      "\n",
      "\n",
      "Stock prices for the Apple:\n",
      "Day: Mon 1 April\n",
      "Open Price: 0.417\n",
      "Close Price: 0.559\n",
      "High Price: 0.14\n",
      "Low Price: 0.198\n",
      "\n",
      "Day: Tue 2 April\n",
      "Open Price: 0.801\n",
      "Close Price: 0.968\n",
      "High Price: 0.313\n",
      "Low Price: 0.692\n",
      "\n",
      "\n"
     ]
    }
   ],
   "source": [
    "for index_axis_0, company in enumerate(companies):\n",
    "    print(f'Stock prices for the {company}:')\n",
    "    for index_axis_1, day in enumerate(days): \n",
    "        print(f'Day: {day}')\n",
    "        for index_axis_2, price_type in enumerate(price_types):\n",
    "            print(f'{price_type} Price: {stock_prices[index_axis_0, index_axis_1, index_axis_2]}')\n",
    "        print('')\n",
    "    print('')"
   ]
  }
 ],
 "metadata": {
  "kernelspec": {
   "display_name": "Python 3 (ipykernel)",
   "language": "python",
   "name": "python3"
  },
  "language_info": {
   "codemirror_mode": {
    "name": "ipython",
    "version": 3
   },
   "file_extension": ".py",
   "mimetype": "text/x-python",
   "name": "python",
   "nbconvert_exporter": "python",
   "pygments_lexer": "ipython3",
   "version": "3.12.3"
  }
 },
 "nbformat": 4,
 "nbformat_minor": 5
}
